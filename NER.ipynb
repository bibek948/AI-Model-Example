{
  "nbformat": 4,
  "nbformat_minor": 0,
  "metadata": {
    "colab": {
      "name": "NER.ipynb",
      "provenance": [],
      "toc_visible": true,
      "authorship_tag": "ABX9TyNYVFxxfog/qt8vCRF6N9CF",
      "include_colab_link": true
    },
    "kernelspec": {
      "name": "python3",
      "display_name": "Python 3"
    },
    "language_info": {
      "name": "python"
    }
  },
  "cells": [
    {
      "cell_type": "markdown",
      "metadata": {
        "id": "view-in-github",
        "colab_type": "text"
      },
      "source": [
        "<a href=\"https://colab.research.google.com/github/bibek948/AI-Model-Example/blob/master/NER.ipynb\" target=\"_parent\"><img src=\"https://colab.research.google.com/assets/colab-badge.svg\" alt=\"Open In Colab\"/></a>"
      ]
    },
    {
      "cell_type": "code",
      "metadata": {
        "id": "kEy1648sdu7v"
      },
      "source": [
        "from __future__ import unicode_literals, print_function\n",
        "import plac\n",
        "import random\n",
        "from pathlib import Path\n",
        "import spacy\n",
        "from tqdm import tqdm"
      ],
      "execution_count": null,
      "outputs": []
    },
    {
      "cell_type": "code",
      "metadata": {
        "colab": {
          "base_uri": "https://localhost:8080/"
        },
        "id": "krfwZDmseGL6",
        "outputId": "1cf17f8e-f915-4299-e8a1-6b96e8f28b12"
      },
      "source": [
        "!python -m spacy download en"
      ],
      "execution_count": null,
      "outputs": [
        {
          "output_type": "stream",
          "text": [
            "Requirement already satisfied: en_core_web_sm==2.2.5 from https://github.com/explosion/spacy-models/releases/download/en_core_web_sm-2.2.5/en_core_web_sm-2.2.5.tar.gz#egg=en_core_web_sm==2.2.5 in /usr/local/lib/python3.7/dist-packages (2.2.5)\n",
            "Requirement already satisfied: spacy>=2.2.2 in /usr/local/lib/python3.7/dist-packages (from en_core_web_sm==2.2.5) (2.2.4)\n",
            "Requirement already satisfied: srsly<1.1.0,>=1.0.2 in /usr/local/lib/python3.7/dist-packages (from spacy>=2.2.2->en_core_web_sm==2.2.5) (1.0.5)\n",
            "Requirement already satisfied: preshed<3.1.0,>=3.0.2 in /usr/local/lib/python3.7/dist-packages (from spacy>=2.2.2->en_core_web_sm==2.2.5) (3.0.5)\n",
            "Requirement already satisfied: numpy>=1.15.0 in /usr/local/lib/python3.7/dist-packages (from spacy>=2.2.2->en_core_web_sm==2.2.5) (1.19.5)\n",
            "Requirement already satisfied: murmurhash<1.1.0,>=0.28.0 in /usr/local/lib/python3.7/dist-packages (from spacy>=2.2.2->en_core_web_sm==2.2.5) (1.0.5)\n",
            "Requirement already satisfied: catalogue<1.1.0,>=0.0.7 in /usr/local/lib/python3.7/dist-packages (from spacy>=2.2.2->en_core_web_sm==2.2.5) (1.0.0)\n",
            "Requirement already satisfied: plac<1.2.0,>=0.9.6 in /usr/local/lib/python3.7/dist-packages (from spacy>=2.2.2->en_core_web_sm==2.2.5) (1.1.3)\n",
            "Requirement already satisfied: thinc==7.4.0 in /usr/local/lib/python3.7/dist-packages (from spacy>=2.2.2->en_core_web_sm==2.2.5) (7.4.0)\n",
            "Requirement already satisfied: cymem<2.1.0,>=2.0.2 in /usr/local/lib/python3.7/dist-packages (from spacy>=2.2.2->en_core_web_sm==2.2.5) (2.0.5)\n",
            "Requirement already satisfied: wasabi<1.1.0,>=0.4.0 in /usr/local/lib/python3.7/dist-packages (from spacy>=2.2.2->en_core_web_sm==2.2.5) (0.8.2)\n",
            "Requirement already satisfied: requests<3.0.0,>=2.13.0 in /usr/local/lib/python3.7/dist-packages (from spacy>=2.2.2->en_core_web_sm==2.2.5) (2.23.0)\n",
            "Requirement already satisfied: tqdm<5.0.0,>=4.38.0 in /usr/local/lib/python3.7/dist-packages (from spacy>=2.2.2->en_core_web_sm==2.2.5) (4.41.1)\n",
            "Requirement already satisfied: blis<0.5.0,>=0.4.0 in /usr/local/lib/python3.7/dist-packages (from spacy>=2.2.2->en_core_web_sm==2.2.5) (0.4.1)\n",
            "Requirement already satisfied: setuptools in /usr/local/lib/python3.7/dist-packages (from spacy>=2.2.2->en_core_web_sm==2.2.5) (54.2.0)\n",
            "Requirement already satisfied: importlib-metadata>=0.20; python_version < \"3.8\" in /usr/local/lib/python3.7/dist-packages (from catalogue<1.1.0,>=0.0.7->spacy>=2.2.2->en_core_web_sm==2.2.5) (3.10.0)\n",
            "Requirement already satisfied: idna<3,>=2.5 in /usr/local/lib/python3.7/dist-packages (from requests<3.0.0,>=2.13.0->spacy>=2.2.2->en_core_web_sm==2.2.5) (2.10)\n",
            "Requirement already satisfied: urllib3!=1.25.0,!=1.25.1,<1.26,>=1.21.1 in /usr/local/lib/python3.7/dist-packages (from requests<3.0.0,>=2.13.0->spacy>=2.2.2->en_core_web_sm==2.2.5) (1.24.3)\n",
            "Requirement already satisfied: certifi>=2017.4.17 in /usr/local/lib/python3.7/dist-packages (from requests<3.0.0,>=2.13.0->spacy>=2.2.2->en_core_web_sm==2.2.5) (2020.12.5)\n",
            "Requirement already satisfied: chardet<4,>=3.0.2 in /usr/local/lib/python3.7/dist-packages (from requests<3.0.0,>=2.13.0->spacy>=2.2.2->en_core_web_sm==2.2.5) (3.0.4)\n",
            "Requirement already satisfied: typing-extensions>=3.6.4; python_version < \"3.8\" in /usr/local/lib/python3.7/dist-packages (from importlib-metadata>=0.20; python_version < \"3.8\"->catalogue<1.1.0,>=0.0.7->spacy>=2.2.2->en_core_web_sm==2.2.5) (3.7.4.3)\n",
            "Requirement already satisfied: zipp>=0.5 in /usr/local/lib/python3.7/dist-packages (from importlib-metadata>=0.20; python_version < \"3.8\"->catalogue<1.1.0,>=0.0.7->spacy>=2.2.2->en_core_web_sm==2.2.5) (3.4.1)\n",
            "\u001b[38;5;2m✔ Download and installation successful\u001b[0m\n",
            "You can now load the model via spacy.load('en_core_web_sm')\n",
            "\u001b[38;5;2m✔ Linking successful\u001b[0m\n",
            "/usr/local/lib/python3.7/dist-packages/en_core_web_sm -->\n",
            "/usr/local/lib/python3.7/dist-packages/spacy/data/en\n",
            "You can now load the model via spacy.load('en')\n"
          ],
          "name": "stdout"
        }
      ]
    },
    {
      "cell_type": "code",
      "metadata": {
        "id": "dOUWLlT6d3jv"
      },
      "source": [
        "\n",
        "\n",
        "nlp1 = spacy.load('en')\n",
        "\n",
        "\n"
      ],
      "execution_count": null,
      "outputs": []
    },
    {
      "cell_type": "code",
      "metadata": {
        "id": "1PyVaU-0gwy5"
      },
      "source": [
        "#custom entity data  ( first index non inclusive, last index is inclusive)\n",
        "TRAIN_DATA = [\n",
        "    ('Loan Amount $1666000 Amortization\t30 Year  Free and\tClear  Debt Coverage Ratio\t1.21  Interest Rate\t4.25   Loan Type\tProposed New ', {\n",
        "        'entities': [(13,20 , 'Loan')]\n",
        "    }),\n",
        "     (\"\"\"Loan Amount $1617000 Marcus Millichap EXCLUSIVE MULTIFAMILY OFFERING INVESTMENT HIGHLIGHTS 854 10TH AVENUE, SAN DIEGO, CA 92101 12 APARTMENT UNITS 12 Unit Apartment Building Located on 10th Avenue in Downtown San Diego OFFERING SUMMARY All Studio / One Bathroom Units, Recently Renovated Price 2450000 Walking Distance to the Gaslamp District's Famous 5th Avenue and San Down Payment 34% / $833,000 Diego Bay Loan Type Proposed New Other Nearby Attractions Include Petco Park, the Convention Center, and Interest Rate / Amortization 3.95 30Years Units 12 Balboa Park Price Per Unit 204167 Rentable SF 4692 Price Per Rentable SF 522 Year Built/Renovated 1923 ASSET PERFORMANCE DATA CURRENT PROFORMA CAP Rate 4.51% 6.03% Net Operating Income 110472 147744 GRM 13.66 11.38 AVENUE This information has been secured from sources we believe to be reliable, but we make no representations or warranties, express or implied, as to the accuracy of the information. References to square footage or age are approximate. Buyer must verify the information and bears all risk for any inaccuracies. Marcus & Millichap is a service mark of Marcus & Millichap Real Estate Investment Services, Inc. ÂC 2018 Marcus & Millichap. All rights reserved. (Activity ID: Y0090302 Property ID: 3766454)\"\"\", {\n",
        "        'entities': [(13, 20, 'Loan')]\n",
        "    }),\n",
        "    ('Loan Amount $752500 Rentable SF\t\"3,396\" GRM\t\"14.33\" Year Built/Renovated\t\"1947\" Interest Rate / Amortization\t\"4.15% / 30 Years\"Price Per Rentable SF\t\"$317\" Net Operating Income\t\"$53590\" Total Return\t\"7.01%/$22605\" Down Payment\t\"30% / $322500\" Lot Size\t\"0.16 acre(s)\" Price Per Unit\t\"$215000\" Net Cash Flow After Debt Service\t\"3.01%/$9,695\" CAP Rate\t\"4.99%\"', {\n",
        "        'entities': [(13, 20, 'Loan')]\n",
        "    }), \n",
        "      (\"\"\"Loan Amount $1232800 Marcus Millichap EXCLUSIVE MULTIFAMILY OFFERING 4133 48TH ST INVESTMENT HIGHLIGHTS 4133 48TH ST, SAN DIEGO, CA 92105 10 APARTMENT UNITS Mix of studios, one & two-bedroom apartments OFFERING SUMMARY \n",
        "Between El Cajon Boulevard & University Avenue, major east-west \n",
        "Price \n",
        "$1,840,000 \n",
        "thoroughfares \n",
        "Down Payment \n",
        "33% / $607,200 \n",
        "Walk Score of 89, considered Very Walkable neighborhood \n",
        "Loan Type \n",
        "Proposed New \n",
        "Four garages and on-site laundry \n",
        "Interest Rate / Amortization \n",
        "4.15% / 30 Years \n",
        "Units \n",
        "10 \n",
        "Quick freeway access via Interstate-15 \n",
        "Price Per Unit \n",
        "$184,000 \n",
        "Rentable SF \n",
        "6,122 \n",
        "Offered free-and-clear of debt \n",
        "Price Per Rentable SF \n",
        "$301 \n",
        "Year Built/Renovated \n",
        "1959 \n",
        "Lot Size \n",
        "0.14 acre(s) \n",
        "ASSET PERFORMANCE DATA \n",
        "CURRENT \n",
        "YEAR 1 \n",
        "CAP Rate \n",
        "4.69% \n",
        "6.04% \n",
        "Net Operating Income \n",
        "$86,343 \n",
        "$111,085 \n",
        "Net Cash Flow After Debt Service \n",
        "2.38%/$14,431 \n",
        "6.45%/$39,173 \n",
        "Total Return \n",
        "5.86%/$35,582 \n",
        "10.08%/$61,218 \n",
        "GRM \n",
        "13.11 \n",
        "11.43 \n",
        "This information has been secured from sources we believe to be reliable, but we make no representations or warranties, express or implied, as to the accuracy of the information. References to square footage or age are approximate. Buyer must verify the \n",
        "information and bears all risk for any inaccuracies. Marcus & Millichap is a service mark of Marcus & Millichap Real Estate Investment Services, Inc. ÂC 2018 Marcus & Millichap. All rights reserved. (Activity ID: ZAA0090394 Property ID: 1987311) \n",
        "\"\"\", {\n",
        "        'entities': [(13, 20, 'Loan')]\n",
        "    }), \n",
        "\n",
        "(\"\"\"Loan Amount\t$575000\n",
        "Amortization\t\"30 Years\"\n",
        "Debt Coverage Ratio\t\"1.24\"\n",
        "Interest Rate\t\"4.0%\"\n",
        "Loan Type\t\"Proposed New\"\n",
        " \"\"\", {\n",
        "        'entities': [(13, 20, 'Loan')]\n",
        "    }), \n",
        "(\"\"\"LOAN AMOUNT\t$80000000\n",
        "INTEREST RATE\t\"Libor + 800bps\"\n",
        "LTC\t\"85%\"\n",
        "TERM\t\"24 Months\"\n",
        "LTV\t\"64.50%\" \"\"\", {\n",
        "'entities': [(13, 21, 'Loan')]\n",
        "}),\n",
        "\n",
        " (\"\"\"LOAN AMOUNT $80000000\n",
        "INTEREST RATE\t\"Libor + 800bps\"\n",
        "LTC\t\"85%\"\n",
        "TERM\t\"24 Months\"\n",
        "LTV\t\"64.50%\" \"\"\", {\n",
        "'entities': [(13, 21, 'Loan')]\n",
        "}), \n",
        "\n",
        "(\"\"\"Loan Amount\t$816000\n",
        "Rentable SF\t\"5,453\"\n",
        "GRM\t\"13.65\"\n",
        "Year Built/Renovated\t\"1984\"\n",
        "Interest Rate / Amortization\t\"3.85% / 30 Years\"\n",
        "Price Per Rentable SF\t\"$249\"\n",
        "Net Operating Income\t\"$55,592\"\n",
        "Units\t\"7\"\n",
        "Total Return\t\"4.44%/$24,176\"\n",
        "Price\t\"$1,360,000\"\n",
        "Down Payment\t\"40% / $544,000\"\n",
        "Lot Size\t\"0.00 acre(s)\"\n",
        "Price Per Unit\t\"$194,286\"\n",
        "CAP Rate\t\"4.09%\" \"\"\", {\n",
        "    'entities': [(13, 19, 'Loan')]\n",
        "}), (\n",
        "\n",
        "\n",
        "\"\"\"Loan Amount\t$650000\n",
        "Amortization\t\"30 Years\"\n",
        "Type of Ownership\t\"Fee Simple\"\n",
        "Year Built/Renovated\t\"1925\"\n",
        "Loan Type\t\"Proposed New\"\n",
        "Framing\t\"Wood\"\n",
        "Loan to Value\t\"50%\"\n",
        "Debt Coverage Ratio\t\"1.58\"\n",
        "Loan Term\t\"10 Years\"\n",
        "Interest Rate\t\"4.30%\"\n",
        "Price\t\"$1,300,000\"\n",
        "Lot Size\t\"0.16 acre(s)\"\n",
        "Assessors Parcel Number\t\"447-601-01-00\"\n",
        "Rentable Square Feet\t\"4,750\" \"\"\", {\n",
        "  'entities': [(13, 19, 'Loan')]\n",
        "})\n",
        "\n",
        "]"
      ],
      "execution_count": null,
      "outputs": []
    },
    {
      "cell_type": "code",
      "metadata": {
        "id": "8nB9Iw_8g7o4"
      },
      "source": [
        "model = None\n",
        "output_dir=Path(\"Bibek\")\n",
        "n_iter=100"
      ],
      "execution_count": null,
      "outputs": []
    },
    {
      "cell_type": "code",
      "metadata": {
        "colab": {
          "base_uri": "https://localhost:8080/"
        },
        "id": "9oCs9V35hHhZ",
        "outputId": "1377757b-1dc5-4693-8885-7ff240d067e4"
      },
      "source": [
        "if model is not None:\n",
        "    nlp = spacy.load(model)  \n",
        "    print(\"Loaded model '%s'\" % model)\n",
        "else:\n",
        "    nlp = spacy.blank('en')  \n",
        "    print(\"Created blank 'en' model\")"
      ],
      "execution_count": null,
      "outputs": [
        {
          "output_type": "stream",
          "text": [
            "Created blank 'en' model\n"
          ],
          "name": "stdout"
        }
      ]
    },
    {
      "cell_type": "code",
      "metadata": {
        "id": "gVY5F-LuhN7K"
      },
      "source": [
        "if 'ner' not in nlp.pipe_names:\n",
        "    ner = nlp.create_pipe('ner')\n",
        "    nlp.add_pipe(ner, last=True)\n",
        "else:\n",
        "    ner = nlp.get_pipe('ner')"
      ],
      "execution_count": null,
      "outputs": []
    },
    {
      "cell_type": "code",
      "metadata": {
        "colab": {
          "base_uri": "https://localhost:8080/"
        },
        "id": "NMlmA-e2hQDG",
        "outputId": "835eea3f-a6a1-49fd-9878-76b14405c5c5"
      },
      "source": [
        "for _, annotations in TRAIN_DATA:\n",
        "    for ent in annotations.get('entities'):\n",
        "        ner.add_label(ent[2])\n",
        "\n",
        "other_pipes = [pipe for pipe in nlp.pipe_names if pipe != 'ner']\n",
        "with nlp.disable_pipes(*other_pipes):  # only train NER\n",
        "    optimizer = nlp.begin_training()\n",
        "    for itn in range(n_iter):\n",
        "        random.shuffle(TRAIN_DATA)\n",
        "        losses = {}\n",
        "        for text, annotations in tqdm(TRAIN_DATA):\n",
        "            nlp.update(\n",
        "                [text],  \n",
        "                [annotations],  \n",
        "                drop=0.5,  \n",
        "                sgd=optimizer,\n",
        "                losses=losses)\n",
        "        print(losses)"
      ],
      "execution_count": null,
      "outputs": [
        {
          "output_type": "stream",
          "text": [
            "100%|██████████| 9/9 [00:00<00:00, 10.71it/s]\n",
            "  0%|          | 0/9 [00:00<?, ?it/s]"
          ],
          "name": "stderr"
        },
        {
          "output_type": "stream",
          "text": [
            "{'ner': 632.0602660514414}\n"
          ],
          "name": "stdout"
        },
        {
          "output_type": "stream",
          "text": [
            "100%|██████████| 9/9 [00:00<00:00, 11.09it/s]\n",
            " 22%|██▏       | 2/9 [00:00<00:00, 10.99it/s]"
          ],
          "name": "stderr"
        },
        {
          "output_type": "stream",
          "text": [
            "{'ner': 67.20188871859523}\n"
          ],
          "name": "stdout"
        },
        {
          "output_type": "stream",
          "text": [
            "100%|██████████| 9/9 [00:00<00:00, 10.92it/s]\n",
            " 11%|█         | 1/9 [00:00<00:00,  9.06it/s]"
          ],
          "name": "stderr"
        },
        {
          "output_type": "stream",
          "text": [
            "{'ner': 16.200903560732463}\n"
          ],
          "name": "stdout"
        },
        {
          "output_type": "stream",
          "text": [
            "100%|██████████| 9/9 [00:00<00:00, 11.13it/s]\n",
            " 11%|█         | 1/9 [00:00<00:00,  9.59it/s]"
          ],
          "name": "stderr"
        },
        {
          "output_type": "stream",
          "text": [
            "{'ner': 15.793203484294704}\n"
          ],
          "name": "stdout"
        },
        {
          "output_type": "stream",
          "text": [
            "100%|██████████| 9/9 [00:00<00:00, 10.56it/s]\n",
            " 22%|██▏       | 2/9 [00:00<00:00, 10.16it/s]"
          ],
          "name": "stderr"
        },
        {
          "output_type": "stream",
          "text": [
            "{'ner': 12.601206075804606}\n"
          ],
          "name": "stdout"
        },
        {
          "output_type": "stream",
          "text": [
            "100%|██████████| 9/9 [00:00<00:00, 11.32it/s]\n",
            " 22%|██▏       | 2/9 [00:00<00:00, 12.66it/s]"
          ],
          "name": "stderr"
        },
        {
          "output_type": "stream",
          "text": [
            "{'ner': 154.69240731487025}\n"
          ],
          "name": "stdout"
        },
        {
          "output_type": "stream",
          "text": [
            "100%|██████████| 9/9 [00:00<00:00, 10.69it/s]\n",
            " 22%|██▏       | 2/9 [00:00<00:00, 14.28it/s]"
          ],
          "name": "stderr"
        },
        {
          "output_type": "stream",
          "text": [
            "{'ner': 14.293786432780225}\n"
          ],
          "name": "stdout"
        },
        {
          "output_type": "stream",
          "text": [
            "100%|██████████| 9/9 [00:00<00:00, 11.65it/s]\n",
            " 11%|█         | 1/9 [00:00<00:01,  7.71it/s]"
          ],
          "name": "stderr"
        },
        {
          "output_type": "stream",
          "text": [
            "{'ner': 5.959773586393094}\n"
          ],
          "name": "stdout"
        },
        {
          "output_type": "stream",
          "text": [
            "100%|██████████| 9/9 [00:00<00:00, 11.13it/s]\n",
            "  0%|          | 0/9 [00:00<?, ?it/s]"
          ],
          "name": "stderr"
        },
        {
          "output_type": "stream",
          "text": [
            "{'ner': 4.669061225837696}\n"
          ],
          "name": "stdout"
        },
        {
          "output_type": "stream",
          "text": [
            "100%|██████████| 9/9 [00:00<00:00, 10.56it/s]\n",
            " 22%|██▏       | 2/9 [00:00<00:00, 11.34it/s]"
          ],
          "name": "stderr"
        },
        {
          "output_type": "stream",
          "text": [
            "{'ner': 4.285045961897843}\n"
          ],
          "name": "stdout"
        },
        {
          "output_type": "stream",
          "text": [
            "100%|██████████| 9/9 [00:00<00:00, 12.97it/s]\n",
            " 22%|██▏       | 2/9 [00:00<00:00, 15.78it/s]"
          ],
          "name": "stderr"
        },
        {
          "output_type": "stream",
          "text": [
            "{'ner': 2.0291648164189042}\n"
          ],
          "name": "stdout"
        },
        {
          "output_type": "stream",
          "text": [
            "100%|██████████| 9/9 [00:00<00:00, 10.21it/s]\n",
            " 22%|██▏       | 2/9 [00:00<00:00, 13.15it/s]"
          ],
          "name": "stderr"
        },
        {
          "output_type": "stream",
          "text": [
            "{'ner': 2.120390498848708}\n"
          ],
          "name": "stdout"
        },
        {
          "output_type": "stream",
          "text": [
            "100%|██████████| 9/9 [00:00<00:00, 11.75it/s]\n",
            " 11%|█         | 1/9 [00:00<00:00,  8.26it/s]"
          ],
          "name": "stderr"
        },
        {
          "output_type": "stream",
          "text": [
            "{'ner': 2.004099923575133}\n"
          ],
          "name": "stdout"
        },
        {
          "output_type": "stream",
          "text": [
            "100%|██████████| 9/9 [00:00<00:00, 10.70it/s]\n",
            " 11%|█         | 1/9 [00:00<00:00,  9.76it/s]"
          ],
          "name": "stderr"
        },
        {
          "output_type": "stream",
          "text": [
            "{'ner': 1.9822625094875699}\n"
          ],
          "name": "stdout"
        },
        {
          "output_type": "stream",
          "text": [
            "100%|██████████| 9/9 [00:00<00:00, 11.53it/s]\n",
            " 11%|█         | 1/9 [00:00<00:00,  9.87it/s]"
          ],
          "name": "stderr"
        },
        {
          "output_type": "stream",
          "text": [
            "{'ner': 2.000394207758972}\n"
          ],
          "name": "stdout"
        },
        {
          "output_type": "stream",
          "text": [
            "100%|██████████| 9/9 [00:00<00:00, 12.02it/s]\n",
            " 22%|██▏       | 2/9 [00:00<00:00, 11.45it/s]"
          ],
          "name": "stderr"
        },
        {
          "output_type": "stream",
          "text": [
            "{'ner': 1.9650126529857312}\n"
          ],
          "name": "stdout"
        },
        {
          "output_type": "stream",
          "text": [
            "100%|██████████| 9/9 [00:00<00:00, 11.03it/s]\n",
            " 22%|██▏       | 2/9 [00:00<00:00, 11.69it/s]"
          ],
          "name": "stderr"
        },
        {
          "output_type": "stream",
          "text": [
            "{'ner': 1.9941593468735839}\n"
          ],
          "name": "stdout"
        },
        {
          "output_type": "stream",
          "text": [
            "100%|██████████| 9/9 [00:00<00:00, 11.45it/s]\n",
            " 11%|█         | 1/9 [00:00<00:00,  9.44it/s]"
          ],
          "name": "stderr"
        },
        {
          "output_type": "stream",
          "text": [
            "{'ner': 1.416428832448102}\n"
          ],
          "name": "stdout"
        },
        {
          "output_type": "stream",
          "text": [
            "100%|██████████| 9/9 [00:00<00:00, 10.88it/s]\n",
            "  0%|          | 0/9 [00:00<?, ?it/s]"
          ],
          "name": "stderr"
        },
        {
          "output_type": "stream",
          "text": [
            "{'ner': 1.7676314609848025}\n"
          ],
          "name": "stdout"
        },
        {
          "output_type": "stream",
          "text": [
            "100%|██████████| 9/9 [00:00<00:00, 11.81it/s]\n",
            " 22%|██▏       | 2/9 [00:00<00:00, 10.42it/s]"
          ],
          "name": "stderr"
        },
        {
          "output_type": "stream",
          "text": [
            "{'ner': 1.715210695701909}\n"
          ],
          "name": "stdout"
        },
        {
          "output_type": "stream",
          "text": [
            "100%|██████████| 9/9 [00:00<00:00, 10.15it/s]\n",
            " 11%|█         | 1/9 [00:00<00:00,  8.65it/s]"
          ],
          "name": "stderr"
        },
        {
          "output_type": "stream",
          "text": [
            "{'ner': 2.311347812950074}\n"
          ],
          "name": "stdout"
        },
        {
          "output_type": "stream",
          "text": [
            "100%|██████████| 9/9 [00:00<00:00, 11.33it/s]\n",
            " 22%|██▏       | 2/9 [00:00<00:00, 14.23it/s]"
          ],
          "name": "stderr"
        },
        {
          "output_type": "stream",
          "text": [
            "{'ner': 2.971142198295598}\n"
          ],
          "name": "stdout"
        },
        {
          "output_type": "stream",
          "text": [
            "100%|██████████| 9/9 [00:00<00:00, 10.71it/s]\n",
            " 22%|██▏       | 2/9 [00:00<00:00, 13.92it/s]"
          ],
          "name": "stderr"
        },
        {
          "output_type": "stream",
          "text": [
            "{'ner': 1.7089999971114294}\n"
          ],
          "name": "stdout"
        },
        {
          "output_type": "stream",
          "text": [
            "100%|██████████| 9/9 [00:00<00:00, 10.76it/s]\n",
            " 11%|█         | 1/9 [00:00<00:00,  9.13it/s]"
          ],
          "name": "stderr"
        },
        {
          "output_type": "stream",
          "text": [
            "{'ner': 1.651398743135435}\n"
          ],
          "name": "stdout"
        },
        {
          "output_type": "stream",
          "text": [
            "100%|██████████| 9/9 [00:00<00:00, 11.13it/s]\n",
            " 22%|██▏       | 2/9 [00:00<00:00, 13.98it/s]"
          ],
          "name": "stderr"
        },
        {
          "output_type": "stream",
          "text": [
            "{'ner': 3.6963146116971934}\n"
          ],
          "name": "stdout"
        },
        {
          "output_type": "stream",
          "text": [
            "100%|██████████| 9/9 [00:00<00:00, 11.05it/s]\n",
            " 11%|█         | 1/9 [00:00<00:00,  9.04it/s]"
          ],
          "name": "stderr"
        },
        {
          "output_type": "stream",
          "text": [
            "{'ner': 1.8646230254247362}\n"
          ],
          "name": "stdout"
        },
        {
          "output_type": "stream",
          "text": [
            "100%|██████████| 9/9 [00:00<00:00, 10.81it/s]\n",
            " 11%|█         | 1/9 [00:00<00:00,  8.90it/s]"
          ],
          "name": "stderr"
        },
        {
          "output_type": "stream",
          "text": [
            "{'ner': 1.9968466878114555}\n"
          ],
          "name": "stdout"
        },
        {
          "output_type": "stream",
          "text": [
            "100%|██████████| 9/9 [00:00<00:00, 11.50it/s]\n",
            " 11%|█         | 1/9 [00:00<00:00,  8.80it/s]"
          ],
          "name": "stderr"
        },
        {
          "output_type": "stream",
          "text": [
            "{'ner': 1.992856146537873}\n"
          ],
          "name": "stdout"
        },
        {
          "output_type": "stream",
          "text": [
            "100%|██████████| 9/9 [00:00<00:00, 11.39it/s]\n",
            " 11%|█         | 1/9 [00:00<00:00,  8.40it/s]"
          ],
          "name": "stderr"
        },
        {
          "output_type": "stream",
          "text": [
            "{'ner': 1.9456095328780365}\n"
          ],
          "name": "stdout"
        },
        {
          "output_type": "stream",
          "text": [
            "100%|██████████| 9/9 [00:00<00:00, 10.28it/s]\n",
            " 11%|█         | 1/9 [00:00<00:01,  7.03it/s]"
          ],
          "name": "stderr"
        },
        {
          "output_type": "stream",
          "text": [
            "{'ner': 2.3013971271169136}\n"
          ],
          "name": "stdout"
        },
        {
          "output_type": "stream",
          "text": [
            "100%|██████████| 9/9 [00:00<00:00, 10.64it/s]\n",
            " 22%|██▏       | 2/9 [00:00<00:00, 11.63it/s]"
          ],
          "name": "stderr"
        },
        {
          "output_type": "stream",
          "text": [
            "{'ner': 2.164926158218734}\n"
          ],
          "name": "stdout"
        },
        {
          "output_type": "stream",
          "text": [
            "100%|██████████| 9/9 [00:00<00:00, 10.79it/s]\n",
            " 22%|██▏       | 2/9 [00:00<00:00, 14.40it/s]"
          ],
          "name": "stderr"
        },
        {
          "output_type": "stream",
          "text": [
            "{'ner': 1.093853073520544}\n"
          ],
          "name": "stdout"
        },
        {
          "output_type": "stream",
          "text": [
            "100%|██████████| 9/9 [00:00<00:00, 11.97it/s]\n",
            " 22%|██▏       | 2/9 [00:00<00:00, 16.71it/s]"
          ],
          "name": "stderr"
        },
        {
          "output_type": "stream",
          "text": [
            "{'ner': 2.448317068945943}\n"
          ],
          "name": "stdout"
        },
        {
          "output_type": "stream",
          "text": [
            "100%|██████████| 9/9 [00:00<00:00, 12.05it/s]\n",
            " 22%|██▏       | 2/9 [00:00<00:00, 10.58it/s]"
          ],
          "name": "stderr"
        },
        {
          "output_type": "stream",
          "text": [
            "{'ner': 1.0898373672113497}\n"
          ],
          "name": "stdout"
        },
        {
          "output_type": "stream",
          "text": [
            "100%|██████████| 9/9 [00:00<00:00, 10.86it/s]\n",
            " 22%|██▏       | 2/9 [00:00<00:00, 12.94it/s]"
          ],
          "name": "stderr"
        },
        {
          "output_type": "stream",
          "text": [
            "{'ner': 1.3804758069281224}\n"
          ],
          "name": "stdout"
        },
        {
          "output_type": "stream",
          "text": [
            "100%|██████████| 9/9 [00:00<00:00, 11.50it/s]\n",
            " 11%|█         | 1/9 [00:00<00:00,  8.19it/s]"
          ],
          "name": "stderr"
        },
        {
          "output_type": "stream",
          "text": [
            "{'ner': 1.4526332757869052}\n"
          ],
          "name": "stdout"
        },
        {
          "output_type": "stream",
          "text": [
            "100%|██████████| 9/9 [00:00<00:00, 10.02it/s]\n",
            " 22%|██▏       | 2/9 [00:00<00:00, 13.02it/s]"
          ],
          "name": "stderr"
        },
        {
          "output_type": "stream",
          "text": [
            "{'ner': 2.021717437928504}\n"
          ],
          "name": "stdout"
        },
        {
          "output_type": "stream",
          "text": [
            "100%|██████████| 9/9 [00:00<00:00, 11.19it/s]\n",
            "  0%|          | 0/9 [00:00<?, ?it/s]"
          ],
          "name": "stderr"
        },
        {
          "output_type": "stream",
          "text": [
            "{'ner': 2.0773683756107033}\n"
          ],
          "name": "stdout"
        },
        {
          "output_type": "stream",
          "text": [
            "100%|██████████| 9/9 [00:00<00:00, 10.63it/s]\n",
            " 22%|██▏       | 2/9 [00:00<00:00, 11.56it/s]"
          ],
          "name": "stderr"
        },
        {
          "output_type": "stream",
          "text": [
            "{'ner': 1.0386146252731356}\n"
          ],
          "name": "stdout"
        },
        {
          "output_type": "stream",
          "text": [
            "100%|██████████| 9/9 [00:00<00:00, 11.12it/s]\n",
            " 22%|██▏       | 2/9 [00:00<00:00, 15.93it/s]"
          ],
          "name": "stderr"
        },
        {
          "output_type": "stream",
          "text": [
            "{'ner': 3.160002764793177}\n"
          ],
          "name": "stdout"
        },
        {
          "output_type": "stream",
          "text": [
            "100%|██████████| 9/9 [00:00<00:00, 11.06it/s]\n",
            " 11%|█         | 1/9 [00:00<00:01,  6.18it/s]"
          ],
          "name": "stderr"
        },
        {
          "output_type": "stream",
          "text": [
            "{'ner': 1.984034975031297}\n"
          ],
          "name": "stdout"
        },
        {
          "output_type": "stream",
          "text": [
            "100%|██████████| 9/9 [00:00<00:00, 10.12it/s]\n",
            "  0%|          | 0/9 [00:00<?, ?it/s]"
          ],
          "name": "stderr"
        },
        {
          "output_type": "stream",
          "text": [
            "{'ner': 0.5962994133628006}\n"
          ],
          "name": "stdout"
        },
        {
          "output_type": "stream",
          "text": [
            "100%|██████████| 9/9 [00:00<00:00, 10.99it/s]\n",
            " 22%|██▏       | 2/9 [00:00<00:00, 11.74it/s]"
          ],
          "name": "stderr"
        },
        {
          "output_type": "stream",
          "text": [
            "{'ner': 0.615558432165799}\n"
          ],
          "name": "stdout"
        },
        {
          "output_type": "stream",
          "text": [
            "100%|██████████| 9/9 [00:00<00:00, 10.42it/s]\n",
            " 11%|█         | 1/9 [00:00<00:00,  9.68it/s]"
          ],
          "name": "stderr"
        },
        {
          "output_type": "stream",
          "text": [
            "{'ner': 1.114945749825774}\n"
          ],
          "name": "stdout"
        },
        {
          "output_type": "stream",
          "text": [
            "100%|██████████| 9/9 [00:00<00:00, 12.21it/s]\n",
            " 11%|█         | 1/9 [00:00<00:00,  8.41it/s]"
          ],
          "name": "stderr"
        },
        {
          "output_type": "stream",
          "text": [
            "{'ner': 0.13934021870260563}\n"
          ],
          "name": "stdout"
        },
        {
          "output_type": "stream",
          "text": [
            "100%|██████████| 9/9 [00:00<00:00,  9.95it/s]\n",
            " 11%|█         | 1/9 [00:00<00:01,  7.87it/s]"
          ],
          "name": "stderr"
        },
        {
          "output_type": "stream",
          "text": [
            "{'ner': 0.2954750176651561}\n"
          ],
          "name": "stdout"
        },
        {
          "output_type": "stream",
          "text": [
            "100%|██████████| 9/9 [00:00<00:00, 10.68it/s]\n",
            " 11%|█         | 1/9 [00:00<00:00,  9.63it/s]"
          ],
          "name": "stderr"
        },
        {
          "output_type": "stream",
          "text": [
            "{'ner': 0.9980322484303271}\n"
          ],
          "name": "stdout"
        },
        {
          "output_type": "stream",
          "text": [
            "100%|██████████| 9/9 [00:00<00:00, 10.75it/s]\n",
            " 22%|██▏       | 2/9 [00:00<00:00, 10.67it/s]"
          ],
          "name": "stderr"
        },
        {
          "output_type": "stream",
          "text": [
            "{'ner': 0.0012048650245170753}\n"
          ],
          "name": "stdout"
        },
        {
          "output_type": "stream",
          "text": [
            "100%|██████████| 9/9 [00:00<00:00, 10.80it/s]\n",
            " 22%|██▏       | 2/9 [00:00<00:00, 12.93it/s]"
          ],
          "name": "stderr"
        },
        {
          "output_type": "stream",
          "text": [
            "{'ner': 0.0974774466771277}\n"
          ],
          "name": "stdout"
        },
        {
          "output_type": "stream",
          "text": [
            "100%|██████████| 9/9 [00:00<00:00, 10.40it/s]\n",
            " 11%|█         | 1/9 [00:00<00:00,  8.16it/s]"
          ],
          "name": "stderr"
        },
        {
          "output_type": "stream",
          "text": [
            "{'ner': 0.16498989554504548}\n"
          ],
          "name": "stdout"
        },
        {
          "output_type": "stream",
          "text": [
            "100%|██████████| 9/9 [00:00<00:00, 10.59it/s]\n",
            " 22%|██▏       | 2/9 [00:00<00:00, 12.03it/s]"
          ],
          "name": "stderr"
        },
        {
          "output_type": "stream",
          "text": [
            "{'ner': 0.01731670576476215}\n"
          ],
          "name": "stdout"
        },
        {
          "output_type": "stream",
          "text": [
            "100%|██████████| 9/9 [00:00<00:00, 12.20it/s]\n",
            " 11%|█         | 1/9 [00:00<00:00,  9.25it/s]"
          ],
          "name": "stderr"
        },
        {
          "output_type": "stream",
          "text": [
            "{'ner': 0.0007717349267598051}\n"
          ],
          "name": "stdout"
        },
        {
          "output_type": "stream",
          "text": [
            "100%|██████████| 9/9 [00:00<00:00, 10.30it/s]\n",
            " 11%|█         | 1/9 [00:00<00:01,  7.76it/s]"
          ],
          "name": "stderr"
        },
        {
          "output_type": "stream",
          "text": [
            "{'ner': 1.922836076481002}\n"
          ],
          "name": "stdout"
        },
        {
          "output_type": "stream",
          "text": [
            "100%|██████████| 9/9 [00:00<00:00, 10.01it/s]\n",
            " 22%|██▏       | 2/9 [00:00<00:00, 11.44it/s]"
          ],
          "name": "stderr"
        },
        {
          "output_type": "stream",
          "text": [
            "{'ner': 6.90837948167065e-05}\n"
          ],
          "name": "stdout"
        },
        {
          "output_type": "stream",
          "text": [
            "100%|██████████| 9/9 [00:00<00:00, 11.71it/s]\n",
            " 11%|█         | 1/9 [00:00<00:01,  7.70it/s]"
          ],
          "name": "stderr"
        },
        {
          "output_type": "stream",
          "text": [
            "{'ner': 0.0001344864061255961}\n"
          ],
          "name": "stdout"
        },
        {
          "output_type": "stream",
          "text": [
            "100%|██████████| 9/9 [00:00<00:00, 10.59it/s]\n",
            " 22%|██▏       | 2/9 [00:00<00:00, 11.59it/s]"
          ],
          "name": "stderr"
        },
        {
          "output_type": "stream",
          "text": [
            "{'ner': 7.683146895291201e-05}\n"
          ],
          "name": "stdout"
        },
        {
          "output_type": "stream",
          "text": [
            "100%|██████████| 9/9 [00:00<00:00, 11.35it/s]\n",
            " 11%|█         | 1/9 [00:00<00:01,  6.48it/s]"
          ],
          "name": "stderr"
        },
        {
          "output_type": "stream",
          "text": [
            "{'ner': 2.728949071583095}\n"
          ],
          "name": "stdout"
        },
        {
          "output_type": "stream",
          "text": [
            "100%|██████████| 9/9 [00:00<00:00, 11.25it/s]\n",
            " 22%|██▏       | 2/9 [00:00<00:00, 11.84it/s]"
          ],
          "name": "stderr"
        },
        {
          "output_type": "stream",
          "text": [
            "{'ner': 3.441627315401869}\n"
          ],
          "name": "stdout"
        },
        {
          "output_type": "stream",
          "text": [
            "100%|██████████| 9/9 [00:00<00:00, 11.16it/s]\n",
            " 11%|█         | 1/9 [00:00<00:00,  8.01it/s]"
          ],
          "name": "stderr"
        },
        {
          "output_type": "stream",
          "text": [
            "{'ner': 1.6983237307505474}\n"
          ],
          "name": "stdout"
        },
        {
          "output_type": "stream",
          "text": [
            "100%|██████████| 9/9 [00:00<00:00, 11.05it/s]\n",
            " 11%|█         | 1/9 [00:00<00:00,  9.99it/s]"
          ],
          "name": "stderr"
        },
        {
          "output_type": "stream",
          "text": [
            "{'ner': 0.00030914682543813754}\n"
          ],
          "name": "stdout"
        },
        {
          "output_type": "stream",
          "text": [
            "100%|██████████| 9/9 [00:00<00:00, 10.37it/s]\n",
            " 11%|█         | 1/9 [00:00<00:00,  9.22it/s]"
          ],
          "name": "stderr"
        },
        {
          "output_type": "stream",
          "text": [
            "{'ner': 1.9940541433225778}\n"
          ],
          "name": "stdout"
        },
        {
          "output_type": "stream",
          "text": [
            "100%|██████████| 9/9 [00:00<00:00,  9.79it/s]\n",
            " 11%|█         | 1/9 [00:00<00:00,  9.54it/s]"
          ],
          "name": "stderr"
        },
        {
          "output_type": "stream",
          "text": [
            "{'ner': 0.01635610646252354}\n"
          ],
          "name": "stdout"
        },
        {
          "output_type": "stream",
          "text": [
            "100%|██████████| 9/9 [00:00<00:00,  9.89it/s]\n",
            "  0%|          | 0/9 [00:00<?, ?it/s]"
          ],
          "name": "stderr"
        },
        {
          "output_type": "stream",
          "text": [
            "{'ner': 1.3819806409416649e-05}\n"
          ],
          "name": "stdout"
        },
        {
          "output_type": "stream",
          "text": [
            "100%|██████████| 9/9 [00:00<00:00, 10.39it/s]\n",
            " 22%|██▏       | 2/9 [00:00<00:00, 13.95it/s]"
          ],
          "name": "stderr"
        },
        {
          "output_type": "stream",
          "text": [
            "{'ner': 1.4278810834893363}\n"
          ],
          "name": "stdout"
        },
        {
          "output_type": "stream",
          "text": [
            "100%|██████████| 9/9 [00:00<00:00, 10.46it/s]\n",
            " 22%|██▏       | 2/9 [00:00<00:00, 11.16it/s]"
          ],
          "name": "stderr"
        },
        {
          "output_type": "stream",
          "text": [
            "{'ner': 3.340033179771834}\n"
          ],
          "name": "stdout"
        },
        {
          "output_type": "stream",
          "text": [
            "100%|██████████| 9/9 [00:00<00:00, 10.79it/s]\n",
            " 22%|██▏       | 2/9 [00:00<00:00, 12.07it/s]"
          ],
          "name": "stderr"
        },
        {
          "output_type": "stream",
          "text": [
            "{'ner': 0.03193443559714215}\n"
          ],
          "name": "stdout"
        },
        {
          "output_type": "stream",
          "text": [
            "100%|██████████| 9/9 [00:00<00:00, 10.66it/s]\n",
            "  0%|          | 0/9 [00:00<?, ?it/s]"
          ],
          "name": "stderr"
        },
        {
          "output_type": "stream",
          "text": [
            "{'ner': 0.017899590785651974}\n"
          ],
          "name": "stdout"
        },
        {
          "output_type": "stream",
          "text": [
            "100%|██████████| 9/9 [00:00<00:00,  9.39it/s]\n",
            " 22%|██▏       | 2/9 [00:00<00:00, 12.38it/s]"
          ],
          "name": "stderr"
        },
        {
          "output_type": "stream",
          "text": [
            "{'ner': 0.00010634141012786344}\n"
          ],
          "name": "stdout"
        },
        {
          "output_type": "stream",
          "text": [
            "100%|██████████| 9/9 [00:00<00:00, 10.59it/s]\n",
            "  0%|          | 0/9 [00:00<?, ?it/s]"
          ],
          "name": "stderr"
        },
        {
          "output_type": "stream",
          "text": [
            "{'ner': 9.130667427347422e-05}\n"
          ],
          "name": "stdout"
        },
        {
          "output_type": "stream",
          "text": [
            "100%|██████████| 9/9 [00:00<00:00,  9.22it/s]\n",
            " 11%|█         | 1/9 [00:00<00:00,  8.57it/s]"
          ],
          "name": "stderr"
        },
        {
          "output_type": "stream",
          "text": [
            "{'ner': 6.294110128491886e-07}\n"
          ],
          "name": "stdout"
        },
        {
          "output_type": "stream",
          "text": [
            "100%|██████████| 9/9 [00:00<00:00, 10.21it/s]\n",
            " 11%|█         | 1/9 [00:00<00:00,  9.67it/s]"
          ],
          "name": "stderr"
        },
        {
          "output_type": "stream",
          "text": [
            "{'ner': 1.939242536431534e-06}\n"
          ],
          "name": "stdout"
        },
        {
          "output_type": "stream",
          "text": [
            "100%|██████████| 9/9 [00:00<00:00,  9.06it/s]\n",
            "  0%|          | 0/9 [00:00<?, ?it/s]"
          ],
          "name": "stderr"
        },
        {
          "output_type": "stream",
          "text": [
            "{'ner': 2.1221189850724586e-07}\n"
          ],
          "name": "stdout"
        },
        {
          "output_type": "stream",
          "text": [
            "100%|██████████| 9/9 [00:00<00:00, 10.06it/s]\n",
            " 22%|██▏       | 2/9 [00:00<00:00, 12.81it/s]"
          ],
          "name": "stderr"
        },
        {
          "output_type": "stream",
          "text": [
            "{'ner': 8.560114311405939e-09}\n"
          ],
          "name": "stdout"
        },
        {
          "output_type": "stream",
          "text": [
            "100%|██████████| 9/9 [00:00<00:00, 11.04it/s]\n",
            " 22%|██▏       | 2/9 [00:00<00:00, 11.05it/s]"
          ],
          "name": "stderr"
        },
        {
          "output_type": "stream",
          "text": [
            "{'ner': 0.0034734520099777007}\n"
          ],
          "name": "stdout"
        },
        {
          "output_type": "stream",
          "text": [
            "100%|██████████| 9/9 [00:00<00:00, 10.93it/s]\n",
            " 11%|█         | 1/9 [00:00<00:00,  8.59it/s]"
          ],
          "name": "stderr"
        },
        {
          "output_type": "stream",
          "text": [
            "{'ner': 0.787421824275714}\n"
          ],
          "name": "stdout"
        },
        {
          "output_type": "stream",
          "text": [
            "100%|██████████| 9/9 [00:00<00:00,  9.70it/s]\n",
            " 11%|█         | 1/9 [00:00<00:00,  8.74it/s]"
          ],
          "name": "stderr"
        },
        {
          "output_type": "stream",
          "text": [
            "{'ner': 0.0006106427312034549}\n"
          ],
          "name": "stdout"
        },
        {
          "output_type": "stream",
          "text": [
            "100%|██████████| 9/9 [00:00<00:00,  9.35it/s]\n",
            " 11%|█         | 1/9 [00:00<00:01,  6.63it/s]"
          ],
          "name": "stderr"
        },
        {
          "output_type": "stream",
          "text": [
            "{'ner': 3.104119160503808e-10}\n"
          ],
          "name": "stdout"
        },
        {
          "output_type": "stream",
          "text": [
            "100%|██████████| 9/9 [00:00<00:00,  9.80it/s]\n",
            " 11%|█         | 1/9 [00:00<00:01,  6.22it/s]"
          ],
          "name": "stderr"
        },
        {
          "output_type": "stream",
          "text": [
            "{'ner': 1.3060013064721327e-06}\n"
          ],
          "name": "stdout"
        },
        {
          "output_type": "stream",
          "text": [
            "100%|██████████| 9/9 [00:00<00:00, 10.00it/s]\n",
            " 22%|██▏       | 2/9 [00:00<00:00, 12.39it/s]"
          ],
          "name": "stderr"
        },
        {
          "output_type": "stream",
          "text": [
            "{'ner': 0.00010828645386252615}\n"
          ],
          "name": "stdout"
        },
        {
          "output_type": "stream",
          "text": [
            "100%|██████████| 9/9 [00:00<00:00, 10.01it/s]\n",
            " 22%|██▏       | 2/9 [00:00<00:00, 12.44it/s]"
          ],
          "name": "stderr"
        },
        {
          "output_type": "stream",
          "text": [
            "{'ner': 6.795009248250406e-06}\n"
          ],
          "name": "stdout"
        },
        {
          "output_type": "stream",
          "text": [
            "100%|██████████| 9/9 [00:00<00:00,  9.48it/s]\n",
            " 11%|█         | 1/9 [00:00<00:00,  9.36it/s]"
          ],
          "name": "stderr"
        },
        {
          "output_type": "stream",
          "text": [
            "{'ner': 1.8687821622037476e-08}\n"
          ],
          "name": "stdout"
        },
        {
          "output_type": "stream",
          "text": [
            "100%|██████████| 9/9 [00:00<00:00, 10.63it/s]\n",
            " 11%|█         | 1/9 [00:00<00:01,  7.80it/s]"
          ],
          "name": "stderr"
        },
        {
          "output_type": "stream",
          "text": [
            "{'ner': 1.0500409589776901e-07}\n"
          ],
          "name": "stdout"
        },
        {
          "output_type": "stream",
          "text": [
            "100%|██████████| 9/9 [00:00<00:00, 10.42it/s]\n",
            " 11%|█         | 1/9 [00:00<00:01,  7.37it/s]"
          ],
          "name": "stderr"
        },
        {
          "output_type": "stream",
          "text": [
            "{'ner': 8.021960421132849e-07}\n"
          ],
          "name": "stdout"
        },
        {
          "output_type": "stream",
          "text": [
            "100%|██████████| 9/9 [00:00<00:00,  9.85it/s]\n",
            " 22%|██▏       | 2/9 [00:00<00:00, 12.19it/s]"
          ],
          "name": "stderr"
        },
        {
          "output_type": "stream",
          "text": [
            "{'ner': 7.384542745566885e-07}\n"
          ],
          "name": "stdout"
        },
        {
          "output_type": "stream",
          "text": [
            "100%|██████████| 9/9 [00:00<00:00, 10.52it/s]\n",
            " 11%|█         | 1/9 [00:00<00:00,  8.97it/s]"
          ],
          "name": "stderr"
        },
        {
          "output_type": "stream",
          "text": [
            "{'ner': 5.038350145608837e-06}\n"
          ],
          "name": "stdout"
        },
        {
          "output_type": "stream",
          "text": [
            "100%|██████████| 9/9 [00:00<00:00, 10.16it/s]\n",
            "  0%|          | 0/9 [00:00<?, ?it/s]"
          ],
          "name": "stderr"
        },
        {
          "output_type": "stream",
          "text": [
            "{'ner': 4.486720083502171e-08}\n"
          ],
          "name": "stdout"
        },
        {
          "output_type": "stream",
          "text": [
            "100%|██████████| 9/9 [00:00<00:00, 10.10it/s]\n",
            " 11%|█         | 1/9 [00:00<00:01,  7.68it/s]"
          ],
          "name": "stderr"
        },
        {
          "output_type": "stream",
          "text": [
            "{'ner': 6.563551050634849e-05}\n"
          ],
          "name": "stdout"
        },
        {
          "output_type": "stream",
          "text": [
            "100%|██████████| 9/9 [00:01<00:00,  8.97it/s]\n",
            " 11%|█         | 1/9 [00:00<00:01,  7.35it/s]"
          ],
          "name": "stderr"
        },
        {
          "output_type": "stream",
          "text": [
            "{'ner': 1.0249190309701354e-08}\n"
          ],
          "name": "stdout"
        },
        {
          "output_type": "stream",
          "text": [
            "100%|██████████| 9/9 [00:00<00:00,  9.50it/s]\n",
            " 22%|██▏       | 2/9 [00:00<00:00, 10.36it/s]"
          ],
          "name": "stderr"
        },
        {
          "output_type": "stream",
          "text": [
            "{'ner': 7.542165783704528e-07}\n"
          ],
          "name": "stdout"
        },
        {
          "output_type": "stream",
          "text": [
            "100%|██████████| 9/9 [00:00<00:00,  9.87it/s]\n",
            " 22%|██▏       | 2/9 [00:00<00:00, 10.82it/s]"
          ],
          "name": "stderr"
        },
        {
          "output_type": "stream",
          "text": [
            "{'ner': 1.3983811856994928e-06}\n"
          ],
          "name": "stdout"
        },
        {
          "output_type": "stream",
          "text": [
            "100%|██████████| 9/9 [00:00<00:00, 10.17it/s]\n",
            "  0%|          | 0/9 [00:00<?, ?it/s]"
          ],
          "name": "stderr"
        },
        {
          "output_type": "stream",
          "text": [
            "{'ner': 0.3778944109749306}\n"
          ],
          "name": "stdout"
        },
        {
          "output_type": "stream",
          "text": [
            "100%|██████████| 9/9 [00:00<00:00,  9.84it/s]\n",
            " 22%|██▏       | 2/9 [00:00<00:00, 10.91it/s]"
          ],
          "name": "stderr"
        },
        {
          "output_type": "stream",
          "text": [
            "{'ner': 3.121716459508582e-05}\n"
          ],
          "name": "stdout"
        },
        {
          "output_type": "stream",
          "text": [
            "100%|██████████| 9/9 [00:00<00:00, 10.11it/s]\n",
            " 22%|██▏       | 2/9 [00:00<00:00, 12.79it/s]"
          ],
          "name": "stderr"
        },
        {
          "output_type": "stream",
          "text": [
            "{'ner': 2.743835973139055e-06}\n"
          ],
          "name": "stdout"
        },
        {
          "output_type": "stream",
          "text": [
            "100%|██████████| 9/9 [00:00<00:00, 10.22it/s]\n",
            " 22%|██▏       | 2/9 [00:00<00:00, 11.95it/s]"
          ],
          "name": "stderr"
        },
        {
          "output_type": "stream",
          "text": [
            "{'ner': 0.0010485314111245779}\n"
          ],
          "name": "stdout"
        },
        {
          "output_type": "stream",
          "text": [
            "100%|██████████| 9/9 [00:00<00:00,  9.64it/s]\n",
            " 11%|█         | 1/9 [00:00<00:00,  9.56it/s]"
          ],
          "name": "stderr"
        },
        {
          "output_type": "stream",
          "text": [
            "{'ner': 1.1683354837732348e-10}\n"
          ],
          "name": "stdout"
        },
        {
          "output_type": "stream",
          "text": [
            "100%|██████████| 9/9 [00:00<00:00,  9.50it/s]\n",
            " 11%|█         | 1/9 [00:00<00:01,  7.25it/s]"
          ],
          "name": "stderr"
        },
        {
          "output_type": "stream",
          "text": [
            "{'ner': 0.013931447640543623}\n"
          ],
          "name": "stdout"
        },
        {
          "output_type": "stream",
          "text": [
            "100%|██████████| 9/9 [00:00<00:00,  9.11it/s]\n",
            " 22%|██▏       | 2/9 [00:00<00:00, 10.37it/s]"
          ],
          "name": "stderr"
        },
        {
          "output_type": "stream",
          "text": [
            "{'ner': 9.278850938777732e-08}\n"
          ],
          "name": "stdout"
        },
        {
          "output_type": "stream",
          "text": [
            "100%|██████████| 9/9 [00:00<00:00, 10.95it/s]\n",
            " 11%|█         | 1/9 [00:00<00:01,  6.68it/s]"
          ],
          "name": "stderr"
        },
        {
          "output_type": "stream",
          "text": [
            "{'ner': 1.9516788408083938e-08}\n"
          ],
          "name": "stdout"
        },
        {
          "output_type": "stream",
          "text": [
            "100%|██████████| 9/9 [00:00<00:00,  9.17it/s]\n",
            " 11%|█         | 1/9 [00:00<00:00,  8.35it/s]"
          ],
          "name": "stderr"
        },
        {
          "output_type": "stream",
          "text": [
            "{'ner': 4.2741908670107756e-10}\n"
          ],
          "name": "stdout"
        },
        {
          "output_type": "stream",
          "text": [
            "100%|██████████| 9/9 [00:00<00:00,  9.91it/s]"
          ],
          "name": "stderr"
        },
        {
          "output_type": "stream",
          "text": [
            "{'ner': 9.707938020406231e-09}\n"
          ],
          "name": "stdout"
        },
        {
          "output_type": "stream",
          "text": [
            "\n"
          ],
          "name": "stderr"
        }
      ]
    },
    {
      "cell_type": "code",
      "metadata": {
        "colab": {
          "base_uri": "https://localhost:8080/"
        },
        "id": "nQssM8RrhT8j",
        "outputId": "bebaf672-568a-4bec-84d4-0428bcd2a251"
      },
      "source": [
        "for text, _ in TRAIN_DATA:\n",
        "    doc = nlp(text)\n",
        "    print('Entities', [(ent.text, ent.label_) for ent in doc.ents])\n",
        "    print('Tokens', [(t.text, t.ent_type_, t.ent_iob) for t in doc])"
      ],
      "execution_count": null,
      "outputs": [
        {
          "output_type": "stream",
          "text": [
            "Entities [('752500', 'Loan')]\n",
            "Tokens [('Loan', '', 2), ('Amount', '', 2), ('$', '', 2), ('752500', 'Loan', 3), ('Rentable', '', 2), ('SF', '', 2), ('\\t', '', 2), ('\"', '', 2), ('3,396', '', 2), ('\"', '', 2), ('GRM', '', 2), ('\\t', '', 2), ('\"', '', 2), ('14.33', '', 2), ('\"', '', 2), ('Year', '', 2), ('Built', '', 2), ('/', '', 2), ('Renovated', '', 2), ('\\t', '', 2), ('\"', '', 2), ('1947', '', 2), ('\"', '', 2), ('Interest', '', 2), ('Rate', '', 2), ('/', '', 2), ('Amortization', '', 2), ('\\t', '', 2), ('\"', '', 2), ('4.15', '', 2), ('%', '', 2), ('/', '', 2), ('30', '', 2), ('Years\"Price', '', 2), ('Per', '', 2), ('Rentable', '', 2), ('SF', '', 2), ('\\t', '', 2), ('\"', '', 2), ('$', '', 2), ('317', '', 2), ('\"', '', 2), ('Net', '', 2), ('Operating', '', 2), ('Income', '', 2), ('\\t', '', 2), ('\"', '', 2), ('$', '', 2), ('53590', '', 2), ('\"', '', 2), ('Total', '', 2), ('Return', '', 2), ('\\t', '', 2), ('\"', '', 2), ('7.01%/$22605', '', 2), ('\"', '', 2), ('Down', '', 2), ('Payment', '', 2), ('\\t', '', 2), ('\"', '', 2), ('30', '', 2), ('%', '', 2), ('/', '', 2), ('$', '', 2), ('322500', '', 2), ('\"', '', 2), ('Lot', '', 2), ('Size', '', 2), ('\\t', '', 2), ('\"', '', 2), ('0.16', '', 2), ('acre(s', '', 2), (')', '', 2), ('\"', '', 2), ('Price', '', 2), ('Per', '', 2), ('Unit', '', 2), ('\\t', '', 2), ('\"', '', 2), ('$', '', 2), ('215000', '', 2), ('\"', '', 2), ('Net', '', 2), ('Cash', '', 2), ('Flow', '', 2), ('After', '', 2), ('Debt', '', 2), ('Service', '', 2), ('\\t', '', 2), ('\"', '', 2), ('3.01%/$9,695', '', 2), ('\"', '', 2), ('CAP', '', 2), ('Rate', '', 2), ('\\t', '', 2), ('\"', '', 2), ('4.99', '', 2), ('%', '', 2), ('\"', '', 2)]\n",
            "Entities [('80000000', 'Loan')]\n",
            "Tokens [('LOAN', '', 2), ('AMOUNT', '', 2), ('$', '', 2), ('80000000', 'Loan', 3), ('\\n', '', 2), ('INTEREST', '', 2), ('RATE', '', 2), ('\\t', '', 2), ('\"', '', 2), ('Libor', '', 2), ('+', '', 2), ('800bps', '', 2), ('\"', '', 2), ('\\n', '', 2), ('LTC', '', 2), ('\\t', '', 2), ('\"', '', 2), ('85', '', 2), ('%', '', 2), ('\"', '', 2), ('\\n', '', 2), ('TERM', '', 2), ('\\t', '', 2), ('\"', '', 2), ('24', '', 2), ('Months', '', 2), ('\"', '', 2), ('\\n', '', 2), ('LTV', '', 2), ('\\t', '', 2), ('\"', '', 2), ('64.50', '', 2), ('%', '', 2), ('\"', '', 2)]\n",
            "Entities [('575000\\n', 'Loan')]\n",
            "Tokens [('Loan', '', 2), ('Amount', '', 2), ('\\t', '', 2), ('$', '', 2), ('575000', 'Loan', 3), ('\\n', 'Loan', 1), ('Amortization', '', 2), ('\\t', '', 2), ('\"', '', 2), ('30', '', 2), ('Years', '', 2), ('\"', '', 2), ('\\n', '', 2), ('Debt', '', 2), ('Coverage', '', 2), ('Ratio', '', 2), ('\\t', '', 2), ('\"', '', 2), ('1.24', '', 2), ('\"', '', 2), ('\\n', '', 2), ('Interest', '', 2), ('Rate', '', 2), ('\\t', '', 2), ('\"', '', 2), ('4.0', '', 2), ('%', '', 2), ('\"', '', 2), ('\\n', '', 2), ('Loan', '', 2), ('Type', '', 2), ('\\t', '', 2), ('\"', '', 2), ('Proposed', '', 2), ('New', '', 2), ('\"', '', 2), ('\\n ', '', 2)]\n",
            "Entities [('816000', 'Loan')]\n",
            "Tokens [('Loan', '', 2), ('Amount', '', 2), ('\\t', '', 2), ('$', '', 2), ('816000', 'Loan', 3), ('\\n', '', 2), ('Rentable', '', 2), ('SF', '', 2), ('\\t', '', 2), ('\"', '', 2), ('5,453', '', 2), ('\"', '', 2), ('\\n', '', 2), ('GRM', '', 2), ('\\t', '', 2), ('\"', '', 2), ('13.65', '', 2), ('\"', '', 2), ('\\n', '', 2), ('Year', '', 2), ('Built', '', 2), ('/', '', 2), ('Renovated', '', 2), ('\\t', '', 2), ('\"', '', 2), ('1984', '', 2), ('\"', '', 2), ('\\n', '', 2), ('Interest', '', 2), ('Rate', '', 2), ('/', '', 2), ('Amortization', '', 2), ('\\t', '', 2), ('\"', '', 2), ('3.85', '', 2), ('%', '', 2), ('/', '', 2), ('30', '', 2), ('Years', '', 2), ('\"', '', 2), ('\\n', '', 2), ('Price', '', 2), ('Per', '', 2), ('Rentable', '', 2), ('SF', '', 2), ('\\t', '', 2), ('\"', '', 2), ('$', '', 2), ('249', '', 2), ('\"', '', 2), ('\\n', '', 2), ('Net', '', 2), ('Operating', '', 2), ('Income', '', 2), ('\\t', '', 2), ('\"', '', 2), ('$', '', 2), ('55,592', '', 2), ('\"', '', 2), ('\\n', '', 2), ('Units', '', 2), ('\\t', '', 2), ('\"', '', 2), ('7', '', 2), ('\"', '', 2), ('\\n', '', 2), ('Total', '', 2), ('Return', '', 2), ('\\t', '', 2), ('\"', '', 2), ('4.44%/$24,176', '', 2), ('\"', '', 2), ('\\n', '', 2), ('Price', '', 2), ('\\t', '', 2), ('\"', '', 2), ('$', '', 2), ('1,360,000', '', 2), ('\"', '', 2), ('\\n', '', 2), ('Down', '', 2), ('Payment', '', 2), ('\\t', '', 2), ('\"', '', 2), ('40', '', 2), ('%', '', 2), ('/', '', 2), ('$', '', 2), ('544,000', '', 2), ('\"', '', 2), ('\\n', '', 2), ('Lot', '', 2), ('Size', '', 2), ('\\t', '', 2), ('\"', '', 2), ('0.00', '', 2), ('acre(s', '', 2), (')', '', 2), ('\"', '', 2), ('\\n', '', 2), ('Price', '', 2), ('Per', '', 2), ('Unit', '', 2), ('\\t', '', 2), ('\"', '', 2), ('$', '', 2), ('194,286', '', 2), ('\"', '', 2), ('\\n', '', 2), ('CAP', '', 2), ('Rate', '', 2), ('\\t', '', 2), ('\"', '', 2), ('4.09', '', 2), ('%', '', 2), ('\"', '', 2)]\n",
            "Entities [('1232800', 'Loan')]\n",
            "Tokens [('Loan', '', 2), ('Amount', '', 2), ('$', '', 2), ('1232800', 'Loan', 3), ('Marcus', '', 2), ('Millichap', '', 2), ('EXCLUSIVE', '', 2), ('MULTIFAMILY', '', 2), ('OFFERING', '', 2), ('4133', '', 2), ('48TH', '', 2), ('ST', '', 2), ('INVESTMENT', '', 2), ('HIGHLIGHTS', '', 2), ('4133', '', 2), ('48TH', '', 2), ('ST', '', 2), (',', '', 2), ('SAN', '', 2), ('DIEGO', '', 2), (',', '', 2), ('CA', '', 2), ('92105', '', 2), ('10', '', 2), ('APARTMENT', '', 2), ('UNITS', '', 2), ('Mix', '', 2), ('of', '', 2), ('studios', '', 2), (',', '', 2), ('one', '', 2), ('&', '', 2), ('two', '', 2), ('-', '', 2), ('bedroom', '', 2), ('apartments', '', 2), ('OFFERING', '', 2), ('SUMMARY', '', 2), ('\\n', '', 2), ('Between', '', 2), ('El', '', 2), ('Cajon', '', 2), ('Boulevard', '', 2), ('&', '', 2), ('University', '', 2), ('Avenue', '', 2), (',', '', 2), ('major', '', 2), ('east', '', 2), ('-', '', 2), ('west', '', 2), ('\\n', '', 2), ('Price', '', 2), ('\\n', '', 2), ('$', '', 2), ('1,840,000', '', 2), ('\\n', '', 2), ('thoroughfares', '', 2), ('\\n', '', 2), ('Down', '', 2), ('Payment', '', 2), ('\\n', '', 2), ('33', '', 2), ('%', '', 2), ('/', '', 2), ('$', '', 2), ('607,200', '', 2), ('\\n', '', 2), ('Walk', '', 2), ('Score', '', 2), ('of', '', 2), ('89', '', 2), (',', '', 2), ('considered', '', 2), ('Very', '', 2), ('Walkable', '', 2), ('neighborhood', '', 2), ('\\n', '', 2), ('Loan', '', 2), ('Type', '', 2), ('\\n', '', 2), ('Proposed', '', 2), ('New', '', 2), ('\\n', '', 2), ('Four', '', 2), ('garages', '', 2), ('and', '', 2), ('on', '', 2), ('-', '', 2), ('site', '', 2), ('laundry', '', 2), ('\\n', '', 2), ('Interest', '', 2), ('Rate', '', 2), ('/', '', 2), ('Amortization', '', 2), ('\\n', '', 2), ('4.15', '', 2), ('%', '', 2), ('/', '', 2), ('30', '', 2), ('Years', '', 2), ('\\n', '', 2), ('Units', '', 2), ('\\n', '', 2), ('10', '', 2), ('\\n', '', 2), ('Quick', '', 2), ('freeway', '', 2), ('access', '', 2), ('via', '', 2), ('Interstate-15', '', 2), ('\\n', '', 2), ('Price', '', 2), ('Per', '', 2), ('Unit', '', 2), ('\\n', '', 2), ('$', '', 2), ('184,000', '', 2), ('\\n', '', 2), ('Rentable', '', 2), ('SF', '', 2), ('\\n', '', 2), ('6,122', '', 2), ('\\n', '', 2), ('Offered', '', 2), ('free', '', 2), ('-', '', 2), ('and', '', 2), ('-', '', 2), ('clear', '', 2), ('of', '', 2), ('debt', '', 2), ('\\n', '', 2), ('Price', '', 2), ('Per', '', 2), ('Rentable', '', 2), ('SF', '', 2), ('\\n', '', 2), ('$', '', 2), ('301', '', 2), ('\\n', '', 2), ('Year', '', 2), ('Built', '', 2), ('/', '', 2), ('Renovated', '', 2), ('\\n', '', 2), ('1959', '', 2), ('\\n', '', 2), ('Lot', '', 2), ('Size', '', 2), ('\\n', '', 2), ('0.14', '', 2), ('acre(s', '', 2), (')', '', 2), ('\\n', '', 2), ('ASSET', '', 2), ('PERFORMANCE', '', 2), ('DATA', '', 2), ('\\n', '', 2), ('CURRENT', '', 2), ('\\n', '', 2), ('YEAR', '', 2), ('1', '', 2), ('\\n', '', 2), ('CAP', '', 2), ('Rate', '', 2), ('\\n', '', 2), ('4.69', '', 2), ('%', '', 2), ('\\n', '', 2), ('6.04', '', 2), ('%', '', 2), ('\\n', '', 2), ('Net', '', 2), ('Operating', '', 2), ('Income', '', 2), ('\\n', '', 2), ('$', '', 2), ('86,343', '', 2), ('\\n', '', 2), ('$', '', 2), ('111,085', '', 2), ('\\n', '', 2), ('Net', '', 2), ('Cash', '', 2), ('Flow', '', 2), ('After', '', 2), ('Debt', '', 2), ('Service', '', 2), ('\\n', '', 2), ('2.38%/$14,431', '', 2), ('\\n', '', 2), ('6.45%/$39,173', '', 2), ('\\n', '', 2), ('Total', '', 2), ('Return', '', 2), ('\\n', '', 2), ('5.86%/$35,582', '', 2), ('\\n', '', 2), ('10.08%/$61,218', '', 2), ('\\n', '', 2), ('GRM', '', 2), ('\\n', '', 2), ('13.11', '', 2), ('\\n', '', 2), ('11.43', '', 2), ('\\n', '', 2), ('This', '', 2), ('information', '', 2), ('has', '', 2), ('been', '', 2), ('secured', '', 2), ('from', '', 2), ('sources', '', 2), ('we', '', 2), ('believe', '', 2), ('to', '', 2), ('be', '', 2), ('reliable', '', 2), (',', '', 2), ('but', '', 2), ('we', '', 2), ('make', '', 2), ('no', '', 2), ('representations', '', 2), ('or', '', 2), ('warranties', '', 2), (',', '', 2), ('express', '', 2), ('or', '', 2), ('implied', '', 2), (',', '', 2), ('as', '', 2), ('to', '', 2), ('the', '', 2), ('accuracy', '', 2), ('of', '', 2), ('the', '', 2), ('information', '', 2), ('.', '', 2), ('References', '', 2), ('to', '', 2), ('square', '', 2), ('footage', '', 2), ('or', '', 2), ('age', '', 2), ('are', '', 2), ('approximate', '', 2), ('.', '', 2), ('Buyer', '', 2), ('must', '', 2), ('verify', '', 2), ('the', '', 2), ('\\n', '', 2), ('information', '', 2), ('and', '', 2), ('bears', '', 2), ('all', '', 2), ('risk', '', 2), ('for', '', 2), ('any', '', 2), ('inaccuracies', '', 2), ('.', '', 2), ('Marcus', '', 2), ('&', '', 2), ('Millichap', '', 2), ('is', '', 2), ('a', '', 2), ('service', '', 2), ('mark', '', 2), ('of', '', 2), ('Marcus', '', 2), ('&', '', 2), ('Millichap', '', 2), ('Real', '', 2), ('Estate', '', 2), ('Investment', '', 2), ('Services', '', 2), (',', '', 2), ('Inc.', '', 2), ('ÂC', '', 2), ('2018', '', 2), ('Marcus', '', 2), ('&', '', 2), ('Millichap', '', 2), ('.', '', 2), ('All', '', 2), ('rights', '', 2), ('reserved', '', 2), ('.', '', 2), ('(', '', 2), ('Activity', '', 2), ('ID', '', 2), (':', '', 2), ('ZAA0090394', '', 2), ('Property', '', 2), ('ID', '', 2), (':', '', 2), ('1987311', '', 2), (')', '', 2), ('\\n', '', 2)]\n",
            "Entities [('1666000', 'Loan')]\n",
            "Tokens [('Loan', '', 2), ('Amount', '', 2), ('$', '', 2), ('1666000', 'Loan', 3), ('Amortization', '', 2), ('\\t', '', 2), ('30', '', 2), ('Year', '', 2), (' ', '', 2), ('Free', '', 2), ('and', '', 2), ('\\t', '', 2), ('Clear', '', 2), (' ', '', 2), ('Debt', '', 2), ('Coverage', '', 2), ('Ratio', '', 2), ('\\t', '', 2), ('1.21', '', 2), (' ', '', 2), ('Interest', '', 2), ('Rate', '', 2), ('\\t', '', 2), ('4.25', '', 2), ('  ', '', 2), ('Loan', '', 2), ('Type', '', 2), ('\\t', '', 2), ('Proposed', '', 2), ('New', '', 2)]\n",
            "Entities [('650000', 'Loan')]\n",
            "Tokens [('Loan', '', 2), ('Amount', '', 2), ('\\t', '', 2), ('$', '', 2), ('650000', 'Loan', 3), ('\\n', '', 2), ('Amortization', '', 2), ('\\t', '', 2), ('\"', '', 2), ('30', '', 2), ('Years', '', 2), ('\"', '', 2), ('\\n', '', 2), ('Type', '', 2), ('of', '', 2), ('Ownership', '', 2), ('\\t', '', 2), ('\"', '', 2), ('Fee', '', 2), ('Simple', '', 2), ('\"', '', 2), ('\\n', '', 2), ('Year', '', 2), ('Built', '', 2), ('/', '', 2), ('Renovated', '', 2), ('\\t', '', 2), ('\"', '', 2), ('1925', '', 2), ('\"', '', 2), ('\\n', '', 2), ('Loan', '', 2), ('Type', '', 2), ('\\t', '', 2), ('\"', '', 2), ('Proposed', '', 2), ('New', '', 2), ('\"', '', 2), ('\\n', '', 2), ('Framing', '', 2), ('\\t', '', 2), ('\"', '', 2), ('Wood', '', 2), ('\"', '', 2), ('\\n', '', 2), ('Loan', '', 2), ('to', '', 2), ('Value', '', 2), ('\\t', '', 2), ('\"', '', 2), ('50', '', 2), ('%', '', 2), ('\"', '', 2), ('\\n', '', 2), ('Debt', '', 2), ('Coverage', '', 2), ('Ratio', '', 2), ('\\t', '', 2), ('\"', '', 2), ('1.58', '', 2), ('\"', '', 2), ('\\n', '', 2), ('Loan', '', 2), ('Term', '', 2), ('\\t', '', 2), ('\"', '', 2), ('10', '', 2), ('Years', '', 2), ('\"', '', 2), ('\\n', '', 2), ('Interest', '', 2), ('Rate', '', 2), ('\\t', '', 2), ('\"', '', 2), ('4.30', '', 2), ('%', '', 2), ('\"', '', 2), ('\\n', '', 2), ('Price', '', 2), ('\\t', '', 2), ('\"', '', 2), ('$', '', 2), ('1,300,000', '', 2), ('\"', '', 2), ('\\n', '', 2), ('Lot', '', 2), ('Size', '', 2), ('\\t', '', 2), ('\"', '', 2), ('0.16', '', 2), ('acre(s', '', 2), (')', '', 2), ('\"', '', 2), ('\\n', '', 2), ('Assessors', '', 2), ('Parcel', '', 2), ('Number', '', 2), ('\\t', '', 2), ('\"', '', 2), ('447', '', 2), ('-', '', 2), ('601', '', 2), ('-', '', 2), ('01', '', 2), ('-', '', 2), ('00', '', 2), ('\"', '', 2), ('\\n', '', 2), ('Rentable', '', 2), ('Square', '', 2), ('Feet', '', 2), ('\\t', '', 2), ('\"', '', 2), ('4,750', '', 2), ('\"', '', 2)]\n",
            "Entities [('80000000', 'Loan')]\n",
            "Tokens [('LOAN', '', 2), ('AMOUNT', '', 2), ('\\t', '', 2), ('$', '', 2), ('80000000', 'Loan', 3), ('\\n', '', 2), ('INTEREST', '', 2), ('RATE', '', 2), ('\\t', '', 2), ('\"', '', 2), ('Libor', '', 2), ('+', '', 2), ('800bps', '', 2), ('\"', '', 2), ('\\n', '', 2), ('LTC', '', 2), ('\\t', '', 2), ('\"', '', 2), ('85', '', 2), ('%', '', 2), ('\"', '', 2), ('\\n', '', 2), ('TERM', '', 2), ('\\t', '', 2), ('\"', '', 2), ('24', '', 2), ('Months', '', 2), ('\"', '', 2), ('\\n', '', 2), ('LTV', '', 2), ('\\t', '', 2), ('\"', '', 2), ('64.50', '', 2), ('%', '', 2), ('\"', '', 2)]\n",
            "Entities [('1617000', 'Loan')]\n",
            "Tokens [('Loan', '', 2), ('Amount', '', 2), ('$', '', 2), ('1617000', 'Loan', 3), ('Marcus', '', 2), ('Millichap', '', 2), ('EXCLUSIVE', '', 2), ('MULTIFAMILY', '', 2), ('OFFERING', '', 2), ('INVESTMENT', '', 2), ('HIGHLIGHTS', '', 2), ('854', '', 2), ('10TH', '', 2), ('AVENUE', '', 2), (',', '', 2), ('SAN', '', 2), ('DIEGO', '', 2), (',', '', 2), ('CA', '', 2), ('92101', '', 2), ('12', '', 2), ('APARTMENT', '', 2), ('UNITS', '', 2), ('12', '', 2), ('Unit', '', 2), ('Apartment', '', 2), ('Building', '', 2), ('Located', '', 2), ('on', '', 2), ('10th', '', 2), ('Avenue', '', 2), ('in', '', 2), ('Downtown', '', 2), ('San', '', 2), ('Diego', '', 2), ('OFFERING', '', 2), ('SUMMARY', '', 2), ('All', '', 2), ('Studio', '', 2), ('/', '', 2), ('One', '', 2), ('Bathroom', '', 2), ('Units', '', 2), (',', '', 2), ('Recently', '', 2), ('Renovated', '', 2), ('Price', '', 2), ('2450000', '', 2), ('Walking', '', 2), ('Distance', '', 2), ('to', '', 2), ('the', '', 2), ('Gaslamp', '', 2), ('District', '', 2), (\"'s\", '', 2), ('Famous', '', 2), ('5th', '', 2), ('Avenue', '', 2), ('and', '', 2), ('San', '', 2), ('Down', '', 2), ('Payment', '', 2), ('34', '', 2), ('%', '', 2), ('/', '', 2), ('$', '', 2), ('833,000', '', 2), ('Diego', '', 2), ('Bay', '', 2), ('Loan', '', 2), ('Type', '', 2), ('Proposed', '', 2), ('New', '', 2), ('Other', '', 2), ('Nearby', '', 2), ('Attractions', '', 2), ('Include', '', 2), ('Petco', '', 2), ('Park', '', 2), (',', '', 2), ('the', '', 2), ('Convention', '', 2), ('Center', '', 2), (',', '', 2), ('and', '', 2), ('Interest', '', 2), ('Rate', '', 2), ('/', '', 2), ('Amortization', '', 2), ('3.95', '', 2), ('30Years', '', 2), ('Units', '', 2), ('12', '', 2), ('Balboa', '', 2), ('Park', '', 2), ('Price', '', 2), ('Per', '', 2), ('Unit', '', 2), ('204167', '', 2), ('Rentable', '', 2), ('SF', '', 2), ('4692', '', 2), ('Price', '', 2), ('Per', '', 2), ('Rentable', '', 2), ('SF', '', 2), ('522', '', 2), ('Year', '', 2), ('Built', '', 2), ('/', '', 2), ('Renovated', '', 2), ('1923', '', 2), ('ASSET', '', 2), ('PERFORMANCE', '', 2), ('DATA', '', 2), ('CURRENT', '', 2), ('PROFORMA', '', 2), ('CAP', '', 2), ('Rate', '', 2), ('4.51', '', 2), ('%', '', 2), ('6.03', '', 2), ('%', '', 2), ('Net', '', 2), ('Operating', '', 2), ('Income', '', 2), ('110472', '', 2), ('147744', '', 2), ('GRM', '', 2), ('13.66', '', 2), ('11.38', '', 2), ('AVENUE', '', 2), ('This', '', 2), ('information', '', 2), ('has', '', 2), ('been', '', 2), ('secured', '', 2), ('from', '', 2), ('sources', '', 2), ('we', '', 2), ('believe', '', 2), ('to', '', 2), ('be', '', 2), ('reliable', '', 2), (',', '', 2), ('but', '', 2), ('we', '', 2), ('make', '', 2), ('no', '', 2), ('representations', '', 2), ('or', '', 2), ('warranties', '', 2), (',', '', 2), ('express', '', 2), ('or', '', 2), ('implied', '', 2), (',', '', 2), ('as', '', 2), ('to', '', 2), ('the', '', 2), ('accuracy', '', 2), ('of', '', 2), ('the', '', 2), ('information', '', 2), ('.', '', 2), ('References', '', 2), ('to', '', 2), ('square', '', 2), ('footage', '', 2), ('or', '', 2), ('age', '', 2), ('are', '', 2), ('approximate', '', 2), ('.', '', 2), ('Buyer', '', 2), ('must', '', 2), ('verify', '', 2), ('the', '', 2), ('information', '', 2), ('and', '', 2), ('bears', '', 2), ('all', '', 2), ('risk', '', 2), ('for', '', 2), ('any', '', 2), ('inaccuracies', '', 2), ('.', '', 2), ('Marcus', '', 2), ('&', '', 2), ('Millichap', '', 2), ('is', '', 2), ('a', '', 2), ('service', '', 2), ('mark', '', 2), ('of', '', 2), ('Marcus', '', 2), ('&', '', 2), ('Millichap', '', 2), ('Real', '', 2), ('Estate', '', 2), ('Investment', '', 2), ('Services', '', 2), (',', '', 2), ('Inc.', '', 2), ('ÂC', '', 2), ('2018', '', 2), ('Marcus', '', 2), ('&', '', 2), ('Millichap', '', 2), ('.', '', 2), ('All', '', 2), ('rights', '', 2), ('reserved', '', 2), ('.', '', 2), ('(', '', 2), ('Activity', '', 2), ('ID', '', 2), (':', '', 2), ('Y0090302', '', 2), ('Property', '', 2), ('ID', '', 2), (':', '', 2), ('3766454', '', 2), (')', '', 2)]\n"
          ],
          "name": "stdout"
        }
      ]
    },
    {
      "cell_type": "code",
      "metadata": {
        "colab": {
          "base_uri": "https://localhost:8080/"
        },
        "id": "ggs80HyzhfrI",
        "outputId": "d8696cdb-bc7e-4a31-c556-c4f764a4ba84"
      },
      "source": [
        "if output_dir is not None:\n",
        "    output_dir = Path(output_dir)\n",
        "    if not output_dir.exists():\n",
        "        output_dir.mkdir()\n",
        "    nlp.to_disk(output_dir)\n",
        "    print(\"Saved model to\", output_dir)"
      ],
      "execution_count": null,
      "outputs": [
        {
          "output_type": "stream",
          "text": [
            "Saved model to Bibek\n"
          ],
          "name": "stdout"
        }
      ]
    },
    {
      "cell_type": "code",
      "metadata": {
        "colab": {
          "base_uri": "https://localhost:8080/"
        },
        "id": "ngTqe6l9h7pY",
        "outputId": "c955aa91-17e9-4aaf-f436-b88d620d243e"
      },
      "source": [
        "#Loading the model that was just created and testing it with a random text\n",
        "print(\"Loading from\", output_dir)\n",
        "\n",
        "#in the following text the loan amount is 1617000\n",
        "test_text = \"\"\"Marcus Millichap EXCLUSIVE MULTIFAMILY OFFERING INVESTMENT HIGHLIGHTS 854 10TH AVENUE, SAN DIEGO, CA 92101 12 APARTMENT UNITS 12 Unit Apartment Building Located on 10th Avenue in Downtown San Diego OFFERING SUMMARY All Studio / One Bathroom Units, Recently Renovated Price 2450000 Walking Distance to the Gaslamp District's Famous 5th Avenue and San Down Payment 34% / $833,000 Diego Bay Loan Type Proposed New Other Nearby Attractions Include Petco Park, the Convention Center, and Interest Rate / Amortization 3.95 30Years Units 12 Balboa Park Price Per Unit 204167 Rentable SF 4692 Price Per Rentable SF 522 Year Built/Renovated 1923 ASSET PERFORMANCE DATA CURRENT PROFORMA CAP Rate 4.51% 6.03% Net Operating Income 110472 147744 GRM 13.66 11.38 AVENUE This information has been secured from sources we believe to be reliable, but we make no representations or warranties, express or implied, as to the accuracy of the information. References to square footage or age are approximate. Buyer must verify the information and bears all risk for any inaccuracies. Marcus & Millichap is a service mark of Marcus & Millichap Real Estate Investment Services, Inc. ÂC 2018 Marcus & Millichap. All rights reserved.Loan Amount $1617000 (Activity ID: Y0090302 Property ID: 3766454) Many novice writers tend to make a sharp distinction between content and style, thinking that a paper can be strong in one and weak in the other, but focusing on organization shows how content and style converge in deliberative academic writing. Your professors will view even the most elegant prose as rambling and tedious if there isn’t a careful, coherent argument to give the text meaning\"\"\"\n",
        "nlp2 = spacy.load(output_dir)\n",
        "doc=nlp2(test_text)\n",
        "\n",
        "\n",
        "for ent in doc.ents:\n",
        "  print(ent.label_, ent.text)\n",
        "  print('Entities', [(ent.text, ent.label_) for ent in doc.ents])\n",
        "  print('Tokens', [(t.text, t.ent_type_) for t in doc])\n",
        "\n",
        "    "
      ],
      "execution_count": null,
      "outputs": [
        {
          "output_type": "stream",
          "text": [
            "Loading from Bibek\n",
            "Loan 1617000\n",
            "Entities [('1617000', 'Loan')]\n",
            "Tokens [('Marcus', ''), ('Millichap', ''), ('EXCLUSIVE', ''), ('MULTIFAMILY', ''), ('OFFERING', ''), ('INVESTMENT', ''), ('HIGHLIGHTS', ''), ('854', ''), ('10TH', ''), ('AVENUE', ''), (',', ''), ('SAN', ''), ('DIEGO', ''), (',', ''), ('CA', ''), ('92101', ''), ('12', ''), ('APARTMENT', ''), ('UNITS', ''), ('12', ''), ('Unit', ''), ('Apartment', ''), ('Building', ''), ('Located', ''), ('on', ''), ('10th', ''), ('Avenue', ''), ('in', ''), ('Downtown', ''), ('San', ''), ('Diego', ''), ('OFFERING', ''), ('SUMMARY', ''), ('All', ''), ('Studio', ''), ('/', ''), ('One', ''), ('Bathroom', ''), ('Units', ''), (',', ''), ('Recently', ''), ('Renovated', ''), ('Price', ''), ('2450000', ''), ('Walking', ''), ('Distance', ''), ('to', ''), ('the', ''), ('Gaslamp', ''), ('District', ''), (\"'s\", ''), ('Famous', ''), ('5th', ''), ('Avenue', ''), ('and', ''), ('San', ''), ('Down', ''), ('Payment', ''), ('34', ''), ('%', ''), ('/', ''), ('$', ''), ('833,000', ''), ('Diego', ''), ('Bay', ''), ('Loan', ''), ('Type', ''), ('Proposed', ''), ('New', ''), ('Other', ''), ('Nearby', ''), ('Attractions', ''), ('Include', ''), ('Petco', ''), ('Park', ''), (',', ''), ('the', ''), ('Convention', ''), ('Center', ''), (',', ''), ('and', ''), ('Interest', ''), ('Rate', ''), ('/', ''), ('Amortization', ''), ('3.95', ''), ('30Years', ''), ('Units', ''), ('12', ''), ('Balboa', ''), ('Park', ''), ('Price', ''), ('Per', ''), ('Unit', ''), ('204167', ''), ('Rentable', ''), ('SF', ''), ('4692', ''), ('Price', ''), ('Per', ''), ('Rentable', ''), ('SF', ''), ('522', ''), ('Year', ''), ('Built', ''), ('/', ''), ('Renovated', ''), ('1923', ''), ('ASSET', ''), ('PERFORMANCE', ''), ('DATA', ''), ('CURRENT', ''), ('PROFORMA', ''), ('CAP', ''), ('Rate', ''), ('4.51', ''), ('%', ''), ('6.03', ''), ('%', ''), ('Net', ''), ('Operating', ''), ('Income', ''), ('110472', ''), ('147744', ''), ('GRM', ''), ('13.66', ''), ('11.38', ''), ('AVENUE', ''), ('This', ''), ('information', ''), ('has', ''), ('been', ''), ('secured', ''), ('from', ''), ('sources', ''), ('we', ''), ('believe', ''), ('to', ''), ('be', ''), ('reliable', ''), (',', ''), ('but', ''), ('we', ''), ('make', ''), ('no', ''), ('representations', ''), ('or', ''), ('warranties', ''), (',', ''), ('express', ''), ('or', ''), ('implied', ''), (',', ''), ('as', ''), ('to', ''), ('the', ''), ('accuracy', ''), ('of', ''), ('the', ''), ('information', ''), ('.', ''), ('References', ''), ('to', ''), ('square', ''), ('footage', ''), ('or', ''), ('age', ''), ('are', ''), ('approximate', ''), ('.', ''), ('Buyer', ''), ('must', ''), ('verify', ''), ('the', ''), ('information', ''), ('and', ''), ('bears', ''), ('all', ''), ('risk', ''), ('for', ''), ('any', ''), ('inaccuracies', ''), ('.', ''), ('Marcus', ''), ('&', ''), ('Millichap', ''), ('is', ''), ('a', ''), ('service', ''), ('mark', ''), ('of', ''), ('Marcus', ''), ('&', ''), ('Millichap', ''), ('Real', ''), ('Estate', ''), ('Investment', ''), ('Services', ''), (',', ''), ('Inc.', ''), ('ÂC', ''), ('2018', ''), ('Marcus', ''), ('&', ''), ('Millichap', ''), ('.', ''), ('All', ''), ('rights', ''), ('reserved', ''), ('.', ''), ('Loan', ''), ('Amount', ''), ('$', ''), ('1617000', 'Loan'), ('(', ''), ('Activity', ''), ('ID', ''), (':', ''), ('Y0090302', ''), ('Property', ''), ('ID', ''), (':', ''), ('3766454', ''), (')', ''), ('Many', ''), ('novice', ''), ('writers', ''), ('tend', ''), ('to', ''), ('make', ''), ('a', ''), ('sharp', ''), ('distinction', ''), ('between', ''), ('content', ''), ('and', ''), ('style', ''), (',', ''), ('thinking', ''), ('that', ''), ('a', ''), ('paper', ''), ('can', ''), ('be', ''), ('strong', ''), ('in', ''), ('one', ''), ('and', ''), ('weak', ''), ('in', ''), ('the', ''), ('other', ''), (',', ''), ('but', ''), ('focusing', ''), ('on', ''), ('organization', ''), ('shows', ''), ('how', ''), ('content', ''), ('and', ''), ('style', ''), ('converge', ''), ('in', ''), ('deliberative', ''), ('academic', ''), ('writing', ''), ('.', ''), ('Your', ''), ('professors', ''), ('will', ''), ('view', ''), ('even', ''), ('the', ''), ('most', ''), ('elegant', ''), ('prose', ''), ('as', ''), ('rambling', ''), ('and', ''), ('tedious', ''), ('if', ''), ('there', ''), ('is', ''), ('n’t', ''), ('a', ''), ('careful', ''), (',', ''), ('coherent', ''), ('argument', ''), ('to', ''), ('give', ''), ('the', ''), ('text', ''), ('meaning', '')]\n"
          ],
          "name": "stdout"
        }
      ]
    },
    {
      "cell_type": "code",
      "metadata": {
        "id": "F7cVw1m2iE6m"
      },
      "source": [
        ""
      ],
      "execution_count": null,
      "outputs": []
    }
  ]
}